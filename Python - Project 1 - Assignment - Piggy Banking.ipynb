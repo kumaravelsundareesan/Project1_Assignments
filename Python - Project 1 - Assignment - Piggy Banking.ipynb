{
 "cells": [
  {
   "cell_type": "markdown",
   "metadata": {},
   "source": [
    "## Piggy Banking Project"
   ]
  },
  {
   "cell_type": "code",
   "execution_count": 1,
   "metadata": {},
   "outputs": [],
   "source": [
    "# class definition\n",
    "\n",
    "class Piggy:\n",
    "    \n",
    "    def __init__(self):\n",
    "        self.balance = 0\n",
    "        \n",
    "    def get_balance(self):\n",
    "        return self.balance        \n",
    "\n",
    "    def add_money(self, amount):\n",
    "        if (amount < 0):\n",
    "            print(\"The amount could not be negative.\")\n",
    "        elif self.balance + amount > 100:\n",
    "            print(\"Not enough space for this amount.\")\n",
    "        else:\n",
    "            self.balance += amount    \n",
    "\n",
    "\n",
    "    def withdraw_money(self,amount):\n",
    "        if (amount < 0):\n",
    "            print(\"The amount could not be negative.\")\n",
    "        elif self.balance - amount < 0:\n",
    "            print(\"Insufficient balance to withdraw.\")\n",
    "        else:\n",
    "            self.balance -= amount       \n",
    "\n"
   ]
  },
  {
   "cell_type": "code",
   "execution_count": null,
   "metadata": {},
   "outputs": [],
   "source": [
    "from random import randint"
   ]
  },
  {
   "cell_type": "code",
   "execution_count": 2,
   "metadata": {},
   "outputs": [
    {
     "name": "stdout",
     "output_type": "stream",
     "text": [
      "-----------------------Start-------------------------\n",
      "Start or End: Start\n",
      "Check_Balance, Add or Withdraw: Add\n",
      "None\n"
     ]
    }
   ],
   "source": [
    "print(\"-----------------------Start-------------------------\")      \n",
    "tran_init = input(\"Start or End: \")\n",
    "add_money = input(\"Check_Balance, Add or Withdraw: \")\n",
    "\n",
    "p = Piggy()\n",
    "\n",
    "if(add_money == \"Check_Balance\"):\n",
    "    print(p.get_balance())\n",
    "            \n",
    "elif(add_money == \"Add\"):\n",
    "    print(p.add_money(80))\n",
    "            \n",
    "else:\n",
    "    p.withdraw_money()\n",
    "\n"
   ]
  },
  {
   "cell_type": "code",
   "execution_count": null,
   "metadata": {},
   "outputs": [],
   "source": [
    "p.balance"
   ]
  },
  {
   "cell_type": "code",
   "execution_count": null,
   "metadata": {},
   "outputs": [],
   "source": [
    "p.get_balance()"
   ]
  },
  {
   "cell_type": "code",
   "execution_count": null,
   "metadata": {},
   "outputs": [],
   "source": [
    "a1 = randint(0,100)"
   ]
  },
  {
   "cell_type": "code",
   "execution_count": null,
   "metadata": {},
   "outputs": [],
   "source": [
    "a1"
   ]
  },
  {
   "cell_type": "code",
   "execution_count": null,
   "metadata": {},
   "outputs": [],
   "source": [
    "p.deposit(a1)"
   ]
  },
  {
   "cell_type": "code",
   "execution_count": null,
   "metadata": {},
   "outputs": [],
   "source": [
    "p.balance"
   ]
  },
  {
   "cell_type": "code",
   "execution_count": null,
   "metadata": {},
   "outputs": [],
   "source": [
    "a2 = randint(0,100)"
   ]
  },
  {
   "cell_type": "code",
   "execution_count": null,
   "metadata": {},
   "outputs": [],
   "source": [
    "a2"
   ]
  },
  {
   "cell_type": "code",
   "execution_count": null,
   "metadata": {},
   "outputs": [],
   "source": [
    "p.deposit(a2)"
   ]
  },
  {
   "cell_type": "code",
   "execution_count": null,
   "metadata": {},
   "outputs": [],
   "source": []
  }
 ],
 "metadata": {
  "kernelspec": {
   "display_name": "Python 3",
   "language": "python",
   "name": "python3"
  },
  "language_info": {
   "codemirror_mode": {
    "name": "ipython",
    "version": 3
   },
   "file_extension": ".py",
   "mimetype": "text/x-python",
   "name": "python",
   "nbconvert_exporter": "python",
   "pygments_lexer": "ipython3",
   "version": "3.7.1"
  }
 },
 "nbformat": 4,
 "nbformat_minor": 2
}
